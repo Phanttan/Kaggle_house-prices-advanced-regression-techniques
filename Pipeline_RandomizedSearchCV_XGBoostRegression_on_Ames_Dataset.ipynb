{
  "nbformat": 4,
  "nbformat_minor": 0,
  "metadata": {
    "colab": {
      "name": "Pipeline_RandomizedSearchCV_XGBoostRegression on Ames Dataset.ipynb",
      "provenance": [],
      "collapsed_sections": [],
      "authorship_tag": "ABX9TyPE75nQR8FV98NQXNzpV84n",
      "include_colab_link": true
    },
    "kernelspec": {
      "name": "python3",
      "display_name": "Python 3"
    },
    "language_info": {
      "name": "python"
    }
  },
  "cells": [
    {
      "cell_type": "markdown",
      "metadata": {
        "id": "view-in-github",
        "colab_type": "text"
      },
      "source": [
        "<a href=\"https://colab.research.google.com/github/Phanttan/Kaggle_house-prices-advanced-regression-techniques/blob/main/Pipeline_RandomizedSearchCV_XGBoostRegression_on_Ames_Dataset.ipynb\" target=\"_parent\"><img src=\"https://colab.research.google.com/assets/colab-badge.svg\" alt=\"Open In Colab\"/></a>"
      ]
    },
    {
      "cell_type": "markdown",
      "metadata": {
        "id": "UZhAviQPHgUb"
      },
      "source": [
        "# Load Dattasets from Kaggle API"
      ]
    },
    {
      "cell_type": "code",
      "metadata": {
        "id": "lQISWu2sNRtg",
        "colab": {
          "base_uri": "https://localhost:8080/",
          "height": 278
        },
        "outputId": "b2b068ef-20cd-4088-f2fe-e00d51b40b9d"
      },
      "source": [
        "# Author:  Tan Phan <phanttan@gmail.com>\n",
        "# License: BSD 3 clause\n",
        "\n",
        "import os\n",
        "import shutil\n",
        "# Create kaggle folder in Colab\n",
        "kaggle_dir = \"/kaggle/input\"\n",
        "directory = \"house-prices-advanced-regression-techniques\"\n",
        "path = os.path.join(kaggle_dir, directory)\n",
        "try: \n",
        "    os.makedirs(kaggle_dir, exist_ok=True)\n",
        "    print(\"Directory '%s' created \" %kaggle_dir)\n",
        "except OSError as error:\n",
        "    print(\"Directory '%s' can not be created\")\n",
        "\n",
        "# Access to Kaggle Database\n",
        "os.environ['KAGGLE_USERNAME'] = \"phanttan\" \n",
        "os.environ['KAGGLE_KEY'] = \"9bfa667f159eeb635c1bd4db0d37c45e\" \n",
        "!kaggle competitions download -c house-prices-advanced-regression-techniques -p house-prices-advanced-regression-techniques\n",
        "\n",
        "# Move dataset to new folder \n",
        "shutil.move(directory, kaggle_dir)"
      ],
      "execution_count": 1,
      "outputs": [
        {
          "output_type": "stream",
          "text": [
            "Directory '/kaggle/input' created \n",
            "Warning: Looks like you're using an outdated API Version, please consider updating (server 1.5.12 / client 1.5.4)\n",
            "Downloading data_description.txt to house-prices-advanced-regression-techniques\n",
            "  0% 0.00/13.1k [00:00<?, ?B/s]\n",
            "100% 13.1k/13.1k [00:00<00:00, 12.6MB/s]\n",
            "Downloading sample_submission.csv to house-prices-advanced-regression-techniques\n",
            "  0% 0.00/31.2k [00:00<?, ?B/s]\n",
            "100% 31.2k/31.2k [00:00<00:00, 32.0MB/s]\n",
            "Downloading train.csv to house-prices-advanced-regression-techniques\n",
            "  0% 0.00/450k [00:00<?, ?B/s]\n",
            "100% 450k/450k [00:00<00:00, 81.7MB/s]\n",
            "Downloading test.csv to house-prices-advanced-regression-techniques\n",
            "  0% 0.00/441k [00:00<?, ?B/s]\n",
            "100% 441k/441k [00:00<00:00, 62.3MB/s]\n"
          ],
          "name": "stdout"
        },
        {
          "output_type": "execute_result",
          "data": {
            "application/vnd.google.colaboratory.intrinsic+json": {
              "type": "string"
            },
            "text/plain": [
              "'/kaggle/input/house-prices-advanced-regression-techniques'"
            ]
          },
          "metadata": {
            "tags": []
          },
          "execution_count": 1
        }
      ]
    },
    {
      "cell_type": "markdown",
      "metadata": {
        "id": "uJ5wSSWYHoSH"
      },
      "source": [
        "# Import packages and load dataset"
      ]
    },
    {
      "cell_type": "code",
      "metadata": {
        "id": "0J0oOKnYG3JV"
      },
      "source": [
        "import pandas as pd\n",
        "import numpy as np\n",
        "import seaborn as sns\n",
        "\n",
        "from sklearn.model_selection import train_test_split, RandomizedSearchCV, KFold, cross_val_score\n",
        "from sklearn.decomposition import PCA\n",
        "from sklearn.preprocessing import StandardScaler, OneHotEncoder\n",
        "from sklearn.pipeline import Pipeline\n",
        "from sklearn.impute import SimpleImputer\n",
        "from sklearn.compose import ColumnTransformer\n",
        "\n",
        "from sklearn.metrics import mean_squared_error\n",
        "\n",
        "import xgboost as xgb\n",
        "\n",
        "import warnings\n",
        "warnings.filterwarnings('ignore')"
      ],
      "execution_count": 2,
      "outputs": []
    },
    {
      "cell_type": "code",
      "metadata": {
        "colab": {
          "base_uri": "https://localhost:8080/"
        },
        "id": "yoD4texIb6Jw",
        "outputId": "1396f975-0bda-431d-a23a-b06bb9323fae"
      },
      "source": [
        "train_full = pd.read_csv(\"/kaggle/input/house-prices-advanced-regression-techniques/train.csv\")\n",
        "test_full = pd.read_csv(\"/kaggle/input/house-prices-advanced-regression-techniques/test.csv\")\n",
        "train_full.shape, test_full.shape"
      ],
      "execution_count": 3,
      "outputs": [
        {
          "output_type": "execute_result",
          "data": {
            "text/plain": [
              "((1460, 81), (1459, 80))"
            ]
          },
          "metadata": {
            "tags": []
          },
          "execution_count": 3
        }
      ]
    },
    {
      "cell_type": "markdown",
      "metadata": {
        "id": "LAXeA9qtSI1k"
      },
      "source": [
        "# Data Preprocessing\n",
        "\n",
        "1.   Check duplications in Data\n",
        "2.   Transformation pipelines\n",
        "\n",
        "\n",
        "\n"
      ]
    },
    {
      "cell_type": "code",
      "metadata": {
        "colab": {
          "base_uri": "https://localhost:8080/"
        },
        "id": "3UPx9ARh-bQY",
        "outputId": "d0760818-0355-407b-926e-58bcd1d550ae"
      },
      "source": [
        "# Check for duplicates for train data\n",
        "idsUnique = len(set(train_full.Id))\n",
        "idsTotal = train_full.shape[0]\n",
        "idsDupli = idsTotal - idsUnique\n",
        "\n",
        "if idsDupli != 0:\n",
        "    print(\"Have duplicated Id in train\")\n",
        "else:\n",
        "    print(\"No dupicated Id in train\")\n",
        "\n",
        "# Check for duplicates for test data\n",
        "idsUnique = len(set(test_full.Id))\n",
        "idsTotal = test_full.shape[0]\n",
        "idsDupli = idsTotal - idsUnique\n",
        "\n",
        "if idsDupli != 0:\n",
        "    print(\"Have duplicated Id in test\")\n",
        "else:\n",
        "    print(\"No dupicated Id in test\")"
      ],
      "execution_count": 4,
      "outputs": [
        {
          "output_type": "stream",
          "text": [
            "No dupicated Id in train\n",
            "No dupicated Id in test\n"
          ],
          "name": "stdout"
        }
      ]
    },
    {
      "cell_type": "code",
      "metadata": {
        "id": "1f9q2hq544Qq"
      },
      "source": [
        "train = train_full.drop('Id', axis=1)\n",
        "test = test_full.drop('Id', axis=1)\n",
        "X = train.drop('SalePrice', axis=1)\n",
        "y = train.SalePrice"
      ],
      "execution_count": 5,
      "outputs": []
    },
    {
      "cell_type": "code",
      "metadata": {
        "id": "4Yh9mdSDPabH"
      },
      "source": [
        "# List out all features that are categorical\n",
        "numerical_cols = X.select_dtypes(include= ['int64', 'float64']).columns\n",
        "categorical_cols = X.select_dtypes(include = [\"object\"]).columns"
      ],
      "execution_count": 6,
      "outputs": []
    },
    {
      "cell_type": "code",
      "metadata": {
        "id": "K7elJtF88ERk"
      },
      "source": [
        "# Build Transformer pipeline\n",
        "numerical_transformer = Pipeline(steps=[('imputer', SimpleImputer(strategy='mean')),\n",
        "                                         ('scaler', StandardScaler(with_mean=False))\n",
        "                                         ])\n",
        "categorical_transformer = Pipeline(steps=[('imputer', SimpleImputer(strategy='most_frequent')),\n",
        "                                          ('onehot', OneHotEncoder(handle_unknown='ignore')),\n",
        "                                           ('scaler', StandardScaler(with_mean=False))\n",
        "                                           ])\n",
        "preprocessor = ColumnTransformer(transformers=[('num', numerical_transformer, numerical_cols),\n",
        "                                              ('cat', categorical_transformer, categorical_cols)])"
      ],
      "execution_count": 7,
      "outputs": []
    },
    {
      "cell_type": "markdown",
      "metadata": {
        "id": "DUHy6giWH-v7"
      },
      "source": [
        "### Note: \n",
        "\n",
        "\n",
        "1.   We chose OHE(OneHot Encoder), not Label Encoder because Label Encoder is not fair with all Categories Variables. \n",
        "2.   A disadvantage of OHE is high cardinality, we can use PCA to reduce data dimension. \n",
        "\n"
      ]
    },
    {
      "cell_type": "code",
      "metadata": {
        "id": "40dMfl2ZLpBB"
      },
      "source": [
        "# Split data for Training and Validation\n",
        "X_train, X_val, y_train, y_val = train_test_split(X, y)"
      ],
      "execution_count": 8,
      "outputs": []
    },
    {
      "cell_type": "markdown",
      "metadata": {
        "id": "ZRGxRre0SN7j"
      },
      "source": [
        "# Define the Model"
      ]
    },
    {
      "cell_type": "code",
      "metadata": {
        "id": "_E4JYU-Mfghh",
        "colab": {
          "base_uri": "https://localhost:8080/"
        },
        "outputId": "25516fff-f030-4011-c5af-db2c0c8bf062"
      },
      "source": [
        "xgb_reg = xgb.XGBRegressor(random_state=42, seed=123, silent=True)\n",
        "ames_pipe = Pipeline(steps=[('preprocessor_transformers', preprocessor),\n",
        "                            ('model', xgb_reg)])\n",
        "\n",
        "ames_pipe"
      ],
      "execution_count": 9,
      "outputs": [
        {
          "output_type": "execute_result",
          "data": {
            "text/plain": [
              "Pipeline(memory=None,\n",
              "         steps=[('preprocessor_transformers',\n",
              "                 ColumnTransformer(n_jobs=None, remainder='drop',\n",
              "                                   sparse_threshold=0.3,\n",
              "                                   transformer_weights=None,\n",
              "                                   transformers=[('num',\n",
              "                                                  Pipeline(memory=None,\n",
              "                                                           steps=[('imputer',\n",
              "                                                                   SimpleImputer(add_indicator=False,\n",
              "                                                                                 copy=True,\n",
              "                                                                                 fill_value=None,\n",
              "                                                                                 missing_values=nan,\n",
              "                                                                                 strategy='mean',\n",
              "                                                                                 verbose=0)),\n",
              "                                                                  ('scaler',\n",
              "                                                                   StandardScaler(copy=Tru...\n",
              "                              colsample_bylevel=1, colsample_bynode=1,\n",
              "                              colsample_bytree=1, gamma=0,\n",
              "                              importance_type='gain', learning_rate=0.1,\n",
              "                              max_delta_step=0, max_depth=3, min_child_weight=1,\n",
              "                              missing=None, n_estimators=100, n_jobs=1,\n",
              "                              nthread=None, objective='reg:linear',\n",
              "                              random_state=42, reg_alpha=0, reg_lambda=1,\n",
              "                              scale_pos_weight=1, seed=123, silent=True,\n",
              "                              subsample=1, verbosity=1))],\n",
              "         verbose=False)"
            ]
          },
          "metadata": {
            "tags": []
          },
          "execution_count": 9
        }
      ]
    },
    {
      "cell_type": "markdown",
      "metadata": {
        "id": "mH6ySMftHChQ"
      },
      "source": [
        "# Fine-Tuning Model : Using RandomizedSearchCV\n"
      ]
    },
    {
      "cell_type": "code",
      "metadata": {
        "id": "5KoXNQhFHBbN"
      },
      "source": [
        "xgb_param_grid = {'model__subsample': np.arange(0.05, 1, 0.05),\n",
        "                  'model__max_depth': np.arange(3,20,1),\n",
        "                  'model__colsample_bytree': np.arange(0.1, 1.05, 0.05)}\n",
        "randomized_neg_mse = RandomizedSearchCV(estimator= ames_pipe,\n",
        "                                        param_distributions=xgb_param_grid,\n",
        "                                        scoring='neg_mean_squared_error',\n",
        "                                        cv=4)\n",
        "randomized_neg_mse.fit(X_train, y_train)\n",
        "# best_rmse = np.sqrt(np.abs(randomized_neg_mse.best_score_))\n",
        "# best_param = randomized_neg_mse.best_params_\n",
        "best_estimator= randomized_neg_mse.best_estimator_"
      ],
      "execution_count": 10,
      "outputs": []
    },
    {
      "cell_type": "code",
      "metadata": {
        "id": "DB770mXwrJDU"
      },
      "source": [
        "y_pred = best_estimator.predict(X_val)\n",
        "xgb_score = np.sqrt(mean_squared_error(y_val, y_pred))"
      ],
      "execution_count": null,
      "outputs": []
    },
    {
      "cell_type": "code",
      "metadata": {
        "id": "uY-_kyHc0Kd5"
      },
      "source": [
        "def rmse_cv(model, X, y, n_folds):\n",
        "    kf = KFold(n_folds, shuffle=True, random_state=42).get_n_splits(X)\n",
        "    rmse= np.sqrt(-cross_val_score(model, X, np.log(y), scoring=\"neg_mean_squared_error\", cv = kf))\n",
        "    return rmse.mean()"
      ],
      "execution_count": 11,
      "outputs": []
    },
    {
      "cell_type": "code",
      "metadata": {
        "colab": {
          "base_uri": "https://localhost:8080/"
        },
        "id": "b_WIaWzjdOB0",
        "outputId": "d74e7a05-5c73-4987-e551-56ea1a9358d3"
      },
      "source": [
        "rmse = rmse_cv(best_estimator, X_val, y_val, 5)\n",
        "rmse"
      ],
      "execution_count": 12,
      "outputs": [
        {
          "output_type": "execute_result",
          "data": {
            "text/plain": [
              "0.15679716433683744"
            ]
          },
          "metadata": {
            "tags": []
          },
          "execution_count": 12
        }
      ]
    },
    {
      "cell_type": "code",
      "metadata": {
        "colab": {
          "base_uri": "https://localhost:8080/"
        },
        "id": "C58KPH6-FDfH",
        "outputId": "19d3a7b2-56b4-423f-b06a-2312ff890dff"
      },
      "source": [
        "y_pred = best_estimator.predict(test)"
      ],
      "execution_count": null,
      "outputs": [
        {
          "output_type": "execute_result",
          "data": {
            "text/plain": [
              "array([123202.29, 155386.17, 178618.3 , ..., 168859.95, 118827.16,\n",
              "       233785.52], dtype=float32)"
            ]
          },
          "metadata": {
            "tags": []
          },
          "execution_count": 68
        }
      ]
    },
    {
      "cell_type": "markdown",
      "metadata": {
        "id": "tq24Nc4lQnX1"
      },
      "source": [
        "# Create Submission File"
      ]
    },
    {
      "cell_type": "code",
      "metadata": {
        "id": "xrsTff5SQry3",
        "colab": {
          "base_uri": "https://localhost:8080/"
        },
        "outputId": "31026b12-7293-4ab4-9c0b-ac0d622829ae"
      },
      "source": [
        "sample_sub = pd.read_csv(\"/kaggle/input/house-prices-advanced-regression-techniques/sample_submission.csv\")\n",
        "sample_sub.Id.shape, y_pred.shape"
      ],
      "execution_count": null,
      "outputs": [
        {
          "output_type": "execute_result",
          "data": {
            "text/plain": [
              "((1459,), (1459,))"
            ]
          },
          "metadata": {
            "tags": []
          },
          "execution_count": 71
        }
      ]
    },
    {
      "cell_type": "code",
      "metadata": {
        "id": "bXFWtKTcRUpd"
      },
      "source": [
        "final_data = {'Id': sample_sub.Id, 'SalePrice': y_pred}\n",
        "final_submission = pd.DataFrame(data=final_data).to_csv('submission_file.csv', \n",
        "                                                        index=False)"
      ],
      "execution_count": null,
      "outputs": []
    }
  ]
}